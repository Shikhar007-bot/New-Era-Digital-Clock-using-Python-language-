{
 "cells": [
  {
   "cell_type": "code",
   "execution_count": 14,
   "id": "367a39ce",
   "metadata": {},
   "outputs": [],
   "source": [
    "from tkinter import Tk\n",
    "# used to create the GUI face of the python code \n",
    "from tkinter import Label\n",
    "#a widget that is used to implement display boxes where you can place text or images\n",
    "import time\n",
    "import datetime\n",
    "\n",
    "#variable\n",
    "root = Tk() # Tk is a window stored in root\n",
    "root.title(\"Clock\")\n",
    "\n",
    "def current_time():\n",
    "    time_display = time.strftime(\"%I:%M:%S %p\")\n",
    "    date_display = datetime.datetime.now()\n",
    "# strftime -> gives current time\n",
    "# %I -> displays time in 1 to 9\n",
    "# %M -> displays minutes\n",
    "# %S -> displays seconds\n",
    "    digi_clock.config(text = time_display)\n",
    "    digi_clock.config(text = date_display)\n",
    "    digi_clock.after(200,current_time)\n",
    "    \n",
    "    # after every 200ms function will run on its own\n",
    "\n",
    "\n",
    "\n",
    "digi_clock = Label(root, font=(\"digital\", 100), bg=\"black\", fg=\"green\")\n",
    "digi_clock.pack()\n",
    "# pack -> organizes widgets in horizontal and vertical boxes that are limited to left, right, top, bottom positions offset and relative to each other within a frame\n",
    "\n",
    "current_time()\n",
    "\n",
    "\n",
    "root.mainloop()\n",
    "\n",
    "\n",
    "\n",
    "\n",
    "\n",
    "\n",
    "\n",
    "\n",
    "\n",
    "\n",
    "\n",
    "\n",
    "\n",
    "\n",
    "\n",
    "\n",
    "\n",
    "\n",
    "\n",
    "\n",
    "\n",
    "\n"
   ]
  },
  {
   "cell_type": "code",
   "execution_count": null,
   "id": "20edf10d",
   "metadata": {},
   "outputs": [],
   "source": []
  },
  {
   "cell_type": "code",
   "execution_count": null,
   "id": "74e583cb",
   "metadata": {},
   "outputs": [],
   "source": []
  }
 ],
 "metadata": {
  "kernelspec": {
   "display_name": "Python 3 (ipykernel)",
   "language": "python",
   "name": "python3"
  },
  "language_info": {
   "codemirror_mode": {
    "name": "ipython",
    "version": 3
   },
   "file_extension": ".py",
   "mimetype": "text/x-python",
   "name": "python",
   "nbconvert_exporter": "python",
   "pygments_lexer": "ipython3",
   "version": "3.11.4"
  }
 },
 "nbformat": 4,
 "nbformat_minor": 5
}
